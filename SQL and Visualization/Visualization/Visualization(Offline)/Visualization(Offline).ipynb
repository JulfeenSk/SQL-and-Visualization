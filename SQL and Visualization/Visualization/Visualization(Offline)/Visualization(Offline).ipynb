{
 "cells": [
  {
   "cell_type": "markdown",
   "id": "be97a7ee",
   "metadata": {},
   "source": [
    "# Visulazitaion using Python"
   ]
  },
  {
   "cell_type": "markdown",
   "id": "3db484f8",
   "metadata": {},
   "source": [
    "### Data visualization in python"
   ]
  },
  {
   "cell_type": "markdown",
   "id": "d1bb65ac",
   "metadata": {},
   "source": [
    "- Data visualization is a crucial part of data analysis and exploration. Python offers a variety of powerful libraries for creating data visualizations. \n",
    "\n",
    "- Data visualization is a valuable tool for data analysis and communication, and it plays a crucial role in various fields, including business, science, journalism, and public policy. As you delve deeper into data visualization, you'll discover more advanced techniques and principles to create compelling and informative visuals.\n"
   ]
  },
  {
   "cell_type": "markdown",
   "id": "73d640c3",
   "metadata": {},
   "source": [
    "### What is data visualization"
   ]
  },
  {
   "cell_type": "markdown",
   "id": "8398c9e3",
   "metadata": {},
   "source": [
    "Data visualization is the process of representing data in a visual or graphical format to help people understand, analyze, and interpret complex information more effectively. It involves using charts, graphs, maps, and other visual elements to present data in a way that makes patterns, trends, and insights more apparent and accessible.\n",
    "\n",
    "The primary goals of data visualization are as follows:\n",
    "  - 1.Simplify Complexity\n",
    "  - 2.Identify Patterns and Trends\n",
    "  - 3.Support Decision-Making\n",
    "  - 4.Enhance Communication\n",
    "\n",
    "Data visualization is a critical tool in fields such as data science, business intelligence, journalism, research, and many others. It helps transform data into actionable insights, fosters better decision-making, and enhances communication within organizations and to the broader public. Effective data visualization involves selecting the right type of visualization for the data, designing visually appealing and informative graphics, and ensuring that the visuals accurately represent the underlying data."
   ]
  },
  {
   "cell_type": "markdown",
   "id": "80781532",
   "metadata": {},
   "source": [
    "# EDA"
   ]
  },
  {
   "cell_type": "markdown",
   "id": "a44cf5e7",
   "metadata": {},
   "source": [
    "- EDA is divided into 2 processes\n",
    "**1)Data Preporcessing** - Convert raw data into cleaned and usable format\n",
    "\n",
    "- Data Connecting - pd.read_csv \n",
    "- Data Inspecting \n",
    "\n",
    "  => df.head(),df.tail()., df.describe(), df.info(),df.isnull()\n",
    "- Data Cleaning\n",
    "\n",
    "  => Null Values - df.isnull().sum()\n",
    "  \n",
    "     ->if nullvalue percentage > 50 - drop column values -- (df.drop['col'],axis=1,inplace=True)\n",
    "     \n",
    "     ->if nullvalue percentage b/w 5&50 - fill nullvalues -- df.fillna()\n",
    "     \n",
    "     ->id nullvaluepercentage < 5   - drop null vlaues -- df.dropna()\n",
    "     \n",
    "  => Outliers"
   ]
  },
  {
   "cell_type": "markdown",
   "id": "55de3499",
   "metadata": {},
   "source": [
    "- Tool used to find outliers in a column - Violin Plot\n",
    "- Categorical vs Numerical  - dist plot\n",
    "- In  a pair plot \n",
    "    - NUmerical vs Numerical - scatter plot\n",
    "    - Categorical vs Categotical - \n",
    "    - Numerical vs Categorical - BAr plot\n",
    "    - diagonal - histogram\n",
    "- Correlation b/w multiple columns - Heatmap\n",
    "- Analysis of a column wrt time - line chart"
   ]
  },
  {
   "cell_type": "code",
   "execution_count": null,
   "id": "c4fbe2dd",
   "metadata": {},
   "outputs": [],
   "source": []
  }
 ],
 "metadata": {
  "kernelspec": {
   "display_name": "Python 3 (ipykernel)",
   "language": "python",
   "name": "python3"
  },
  "language_info": {
   "codemirror_mode": {
    "name": "ipython",
    "version": 3
   },
   "file_extension": ".py",
   "mimetype": "text/x-python",
   "name": "python",
   "nbconvert_exporter": "python",
   "pygments_lexer": "ipython3",
   "version": "3.9.13"
  }
 },
 "nbformat": 4,
 "nbformat_minor": 5
}
